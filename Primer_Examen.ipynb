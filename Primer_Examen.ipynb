{
  "nbformat": 4,
  "nbformat_minor": 0,
  "metadata": {
    "colab": {
      "provenance": [],
      "authorship_tag": "ABX9TyPXiAjfLmLWNhqUMmTDBLWk",
      "include_colab_link": true
    },
    "kernelspec": {
      "name": "python3",
      "display_name": "Python 3"
    },
    "language_info": {
      "name": "python"
    }
  },
  "cells": [
    {
      "cell_type": "markdown",
      "metadata": {
        "id": "view-in-github",
        "colab_type": "text"
      },
      "source": [
        "<a href=\"https://colab.research.google.com/github/Eliza712222/Python2025_20/blob/main/Primer_Examen.ipynb\" target=\"_parent\"><img src=\"https://colab.research.google.com/assets/colab-badge.svg\" alt=\"Open In Colab\"/></a>"
      ]
    },
    {
      "cell_type": "code",
      "execution_count": null,
      "metadata": {
        "id": "3VEc9JZUxUiR"
      },
      "outputs": [],
      "source": [
        "# Codigo numero 1\n",
        "# Pedir una oración al usuario\n",
        "oracion = input(\"Ingresa una oración: \")\n",
        "\n",
        "# Convertir la oración a minúsculas\n",
        "oracion = oracion.lower()\n",
        "\n",
        "# Quitar los espacios de la oración\n",
        "oracion = oracion.replace(\" \", \"\")\n",
        "\n",
        "# Crear un diccionario vacío para guardar las frecuencias\n",
        "frecuencia = {}\n",
        "\n",
        "# Recorrer cada letra de la oración\n",
        "for letra in oracion:\n",
        "    # Si la letra ya está en el diccionario, sumar 1\n",
        "    if letra in frecuencia:\n",
        "        frecuencia[letra] += 1\n",
        "    # Si no está, agregarla con valor 1\n",
        "    else:\n",
        "        frecuencia[letra] = 1\n",
        "\n",
        "# Mostrar el resultado\n",
        "for letra in frecuencia:\n",
        "    print(letra, \":\", frecuencia[letra])\n",
        "\n",
        ""
      ]
    },
    {
      "cell_type": "code",
      "source": [
        "#Codigo Numero 2\n",
        "# Lista de palabras\n",
        "palabras = [\"Rojo\", \"Azul\", \"Verde\", \"Amarillo\", \"Morado\", \"Negro\"]\n",
        "\n",
        "# Crear diccionario vacío para guardar el recuento\n",
        "conteo_inicial = {}\n",
        "\n",
        "# Recorrer cada palabra\n",
        "for palabra in palabras:\n",
        "    # Convertir a minúsculas y tomar la primera letra\n",
        "    inicial = palabra.lower()[0]\n",
        "\n",
        "    # Contar cuántas veces aparece esa letra inicial\n",
        "    if inicial in conteo_inicial:\n",
        "        conteo_inicial[inicial] += 1\n",
        "    else:\n",
        "        conteo_inicial[inicial] = 1\n",
        "\n",
        "# Mostrar el resultado\n",
        "for letra in conteo_inicial:\n",
        "    print(letra, \":\", conteo_inicial[letra])"
      ],
      "metadata": {
        "id": "1ZDDdAB8zlUw"
      },
      "execution_count": null,
      "outputs": []
    },
    {
      "cell_type": "code",
      "source": [],
      "metadata": {
        "id": "5Nb56jPr1bPg"
      },
      "execution_count": null,
      "outputs": []
    }
  ]
}